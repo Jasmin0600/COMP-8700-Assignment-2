{
  "nbformat": 4,
  "nbformat_minor": 0,
  "metadata": {
    "colab": {
      "provenance": []
    },
    "kernelspec": {
      "name": "python3",
      "display_name": "Python 3"
    },
    "language_info": {
      "name": "python"
    }
  },
  "cells": [
    {
      "cell_type": "code",
      "source": [
        "import math\n",
        "import random"
      ],
      "metadata": {
        "id": "hp_MbMjDB7iK"
      },
      "execution_count": null,
      "outputs": []
    },
    {
      "cell_type": "code",
      "source": [
        "# simple minimax - textbook example - - ternary tree\n",
        "\n",
        "def minimax(depth, nodeIndex, maximizingPlayer,\n",
        "\t\t\tvalues):\n",
        "\tif depth == 2:\n",
        "\t\treturn values[nodeIndex]\n",
        "\tif maximizingPlayer:\n",
        "\t\tfor i in range(0, 1):\n",
        "\t\t\tval = minimax(depth + 1, nodeIndex * 3 + i,False, values)\n",
        "\t\treturn val\n",
        "\telse:\n",
        "\t\tfor i in range(0, 1):\n",
        "\t\t\tval = minimax(depth + 1, nodeIndex * 3 + i,True, values)\n",
        "\t\treturn val\n",
        "if __name__ == \"__main__\":\n",
        " values = [3,12,8,2,4,6,14,5,2]\n",
        " print(\"The optimal value is :\", minimax(0, 0, True, values))\n",
        "\t\n"
      ],
      "metadata": {
        "id": "-vHDzgI7B9No",
        "colab": {
          "base_uri": "https://localhost:8080/"
        },
        "outputId": "1f6e9195-c440-414f-9720-b577085f3ac5"
      },
      "execution_count": null,
      "outputs": [
        {
          "output_type": "stream",
          "name": "stdout",
          "text": [
            "The optimal value is : 3\n"
          ]
        }
      ]
    },
    {
      "cell_type": "code",
      "source": [
        "# minimax + alphabeta pruning - textbook example - - ternary tree\n",
        "\n",
        "MAX, MIN = 9999, -9999\n",
        "def minimax(depth, nodeIndex, maximizingPlayer,\n",
        "\t\t\tvalues, alpha, beta):\n",
        "\tif depth == 2:\n",
        "\t\treturn values[nodeIndex]\n",
        "\tif maximizingPlayer:\t\n",
        "\t\tbest = MIN\n",
        "\t\tfor i in range(0, 1):\t\t\t\n",
        "\t\t\tval = minimax(depth + 1, nodeIndex * 3 + i,\n",
        "\t\t\t\t\t\tFalse, values, alpha, beta)\n",
        "\t\t\tbest = max(best, val)\n",
        "\t\t\talpha = max(alpha, best)\n",
        "\t\t\tif beta <= alpha:\n",
        "\t\t\t\tbreak\t\t\n",
        "\t\treturn best\n",
        "\t\n",
        "\telse:\n",
        "\t\tbest = MAX\n",
        "\t\tfor i in range(0, 1):\t\t\n",
        "\t\t\tval = minimax(depth + 1, nodeIndex * 3 + i,\n",
        "\t\t\t\t\t\t\tTrue, values, alpha, beta)\n",
        "\t\t\tbest = min(best, val)\n",
        "\t\t\tbeta = min(beta, best)\n",
        "\t\t\tif beta <= alpha:\n",
        "\t\t\t\tbreak\n",
        "\t\treturn best\n",
        "if __name__ == \"__main__\":\n",
        " values = [3,12,8,2,4,6,14,5,2]\n",
        " print(\"The optimal value is :\", minimax(0, 0, True, values, MIN, MAX))\n",
        "\t"
      ],
      "metadata": {
        "colab": {
          "base_uri": "https://localhost:8080/"
        },
        "id": "uLAB2EgEcYE3",
        "outputId": "e67a0783-184a-4fca-b9dd-6f727f5b23af"
      },
      "execution_count": null,
      "outputs": [
        {
          "output_type": "stream",
          "name": "stdout",
          "text": [
            "The optimal value is : 3\n"
          ]
        }
      ]
    },
    {
      "cell_type": "code",
      "source": [
        "test_1=[]\n",
        "test_2=[]\n",
        "test_3=[]\n",
        "test_4=[]\n",
        "test_5=[]\n",
        "test_6=[]\n",
        "\n",
        "n=81\n",
        "for i in range(n):\n",
        "    test_1.append(random.randint(-9,9))\n",
        "    test_2.append(random.randint(-9,9))\n",
        "    test_3.append(random.randint(-9,9))\n",
        "    test_4.append(random.randint(-9,9))\n",
        "    test_5.append(random.randint(-9,9))\n",
        "    test_6.append(random.randint(-9,9))\n",
        "\n",
        "print(\"test_1: \", test_1)\n",
        "print(\"test_2: \", test_2)\n",
        "print(\"test_3: \", test_3)\n",
        "print(\"test_4: \", test_4)\n",
        "print(\"test_5: \", test_5)\n",
        "print(\"test_6: \", test_6)"
      ],
      "metadata": {
        "colab": {
          "base_uri": "https://localhost:8080/"
        },
        "id": "riDtfSbr0uH7",
        "outputId": "5b349a1a-9c5f-435d-e259-01276b9ff78e"
      },
      "execution_count": null,
      "outputs": [
        {
          "output_type": "stream",
          "name": "stdout",
          "text": [
            "test_1:  [1, -2, 1, 6, -8, -6, 5, -5, 0, 1, 8, 6, 3, -3, -8, 6, 2, -9, 0, -9, -7, -9, 0, -3, -9, 9, 3, -5, -4, -4, -9, 8, 2, -7, 4, -4, -4, -3, 9, 8, -6, -7, -9, -3, -3, -3, 5, 4, -2, 2, 5, -5, -4, -1, 0, -2, -1, 4, 6, -5, -6, 7, -9, 7, -5, 2, -2, 8, 8, 8, -6, -2, -9, -2, 4, -8, -9, 7, 4, -3, -9]\n",
            "test_2:  [6, 2, -1, -9, 8, -9, -4, 3, 3, 4, 8, 1, -1, -9, 4, -9, 8, 2, 6, -9, -2, -3, 6, -5, 4, 7, -2, 0, 6, -6, 1, 3, 8, -9, -7, -4, 1, -5, 9, -8, -2, 6, 6, -1, -4, -2, -7, -1, 6, -5, 9, 1, -5, 2, 5, 2, -1, 7, 5, 3, -6, -1, 1, 6, -1, -3, -5, 5, 8, -4, -7, 8, -3, 8, 2, -5, -2, -7, 1, -3, 2]\n",
            "test_3:  [6, -4, 4, -6, 3, -7, 1, -3, -1, 6, -3, 3, 5, -1, 7, 3, -3, -1, -2, 8, 7, 9, 7, -1, 6, -8, -7, -3, 9, -3, -2, -7, 4, 3, -8, 6, -4, -9, 5, 8, 0, -8, -6, 0, -5, -1, 9, -7, 2, 5, 5, -1, 5, 1, -5, 9, -1, -1, 8, -4, -4, 9, -4, -4, 9, -1, -6, -1, -4, 4, 2, 1, 1, -5, 9, 8, 6, -2, 1, 1, -4]\n",
            "test_4:  [3, 0, -8, 4, -5, -5, 8, 3, 7, 9, -4, 9, 5, 0, 5, -1, -5, 3, 4, -7, -3, -3, -7, 0, 1, 8, -8, -5, 5, -5, -9, 7, 4, 1, 4, 4, 3, 2, -8, -6, 4, 3, -9, 1, -3, 2, 3, -8, -1, -4, -5, -7, -6, 3, -8, -7, -6, 5, 4, -3, 8, -9, -6, -9, 0, -5, -7, 3, -3, -5, 6, 2, 2, 2, -5, -2, 2, -4, -2, 5, -7]\n",
            "test_5:  [-1, -8, 9, 0, -2, -4, -8, -9, 2, 0, 8, 5, 8, -9, 8, 4, 8, -4, -5, -4, 2, 6, 4, -7, 5, -7, -1, 4, 8, -8, -4, 9, -2, -2, 8, -3, -4, -7, -9, 9, 5, -7, -9, -6, -5, -5, -2, 2, 1, 6, 0, 2, -8, 5, 6, 3, -8, -8, -9, 3, 8, 2, 3, -6, -3, -2, -9, -1, -7, 2, -7, 7, 3, -3, 0, 0, -2, 3, 2, 7, 2]\n",
            "test_6:  [-7, 2, -9, 5, -1, 5, -5, -7, -7, 2, 3, 6, -4, 2, -4, -9, 9, 4, 0, 6, 3, 1, -1, -3, -6, 0, -1, -6, -2, -5, -2, 4, -9, 5, -4, 9, 2, 1, 5, -3, 4, 4, 7, 1, 6, 0, -2, -5, 9, -7, -4, 2, 8, -4, 7, 1, 9, 1, 5, -3, 4, -7, 1, 9, 8, 6, 4, 5, 3, -6, -3, 5, -4, 5, -5, 5, 2, -8, 3, 1, 4]\n"
          ]
        }
      ]
    },
    {
      "cell_type": "code",
      "source": [
        "# simple minimax - four ply - ternary tree\n",
        "\n",
        "def minimax(depth, nodeIndex, maximizingPlayer,\n",
        "\t\t\tvalues):\n",
        "\tif depth == 4:\n",
        "\t\treturn values[nodeIndex]\n",
        "\tif maximizingPlayer:\n",
        "\t\tfor i in range(0, 3):\n",
        "\t\t\tval = minimax(depth + 1, nodeIndex * 3 + i,False, values)\t\n",
        "\t\treturn val\n",
        "\telse:\n",
        "\t\tfor i in range(0, 3):\n",
        "\t\t\tval = minimax(depth + 1, nodeIndex * 3 + i,True, values)\n",
        "\t\treturn val\n",
        "if __name__ == \"__main__\":\n",
        " print(\"The optimal value is :\", minimax(0, 0, True, test_1))\n",
        " print(\"The optimal value is :\", minimax(0, 0, True, test_2))\n",
        " print(\"The optimal value is :\", minimax(0, 0, True, test_3))\n",
        "\t"
      ],
      "metadata": {
        "colab": {
          "base_uri": "https://localhost:8080/"
        },
        "id": "JpZJU4bThyLG",
        "outputId": "954e78ed-0fe2-4d83-ad97-a7ef0ee3b470"
      },
      "execution_count": null,
      "outputs": [
        {
          "output_type": "stream",
          "name": "stdout",
          "text": [
            "The optimal value is : -9\n",
            "The optimal value is : 2\n",
            "The optimal value is : -4\n"
          ]
        }
      ]
    },
    {
      "cell_type": "code",
      "source": [
        "# minimax + alphabeta pruning - four ply - ternary tree\n",
        "\n",
        "MAX, MIN = 9999, -9999\n",
        "def minimax(depth, nodeIndex, maximizingPlayer,\n",
        "\t\t\tvalues, alpha, beta):\n",
        "\tif depth == 4:\n",
        "\t\treturn values[nodeIndex]\n",
        "\tif maximizingPlayer:\t\n",
        "\t\tbest = MIN\n",
        "\t\tfor i in range(0, 3):\t\t\t\n",
        "\t\t\tval = minimax(depth + 1, nodeIndex * 3 + i,\n",
        "\t\t\t\t\t\tFalse, values, alpha, beta)\n",
        "\t\t\tbest = max(best, val)\n",
        "\t\t\talpha = max(alpha, best)\n",
        "\t\t\tif beta <= alpha:\n",
        "\t\t\t\tbreak\t\t\n",
        "\t\treturn best\n",
        "\t\n",
        "\telse:\n",
        "\t\tbest = MAX\n",
        "\t\tfor i in range(0, 3):\t\t\n",
        "\t\t\tval = minimax(depth + 1, nodeIndex * 3 + i,\n",
        "\t\t\t\t\t\t\tTrue, values, alpha, beta)\n",
        "\t\t\tbest = min(best, val)\n",
        "\t\t\tbeta = min(beta, best)\n",
        "\t\t\tif beta <= alpha:\n",
        "\t\t\t\tbreak\n",
        "\t\treturn best\n",
        "if __name__ == \"__main__\":\n",
        " print(\"The optimal value is :\", minimax(0, 0, True, test_1, MIN, MAX))\n",
        " print(\"The optimal value is :\", minimax(0, 0, True, test_2, MIN, MAX))\n",
        " print(\"The optimal value is :\", minimax(0, 0, True, test_3, MIN, MAX))\n",
        "\t"
      ],
      "metadata": {
        "colab": {
          "base_uri": "https://localhost:8080/"
        },
        "id": "ccXD_RBsi_Qb",
        "outputId": "e851b544-1fa3-4a08-902d-64728f97f52c"
      },
      "execution_count": null,
      "outputs": [
        {
          "output_type": "stream",
          "name": "stdout",
          "text": [
            "The optimal value is : -5\n",
            "The optimal value is : -2\n",
            "The optimal value is : -3\n"
          ]
        }
      ]
    },
    {
      "cell_type": "code",
      "source": [
        "test_7=[5,-10,-17,-10,-20,-15,-16,17,17,-15,-9,-16,-17,6,-8,-18]\n",
        "len(test_7)"
      ],
      "metadata": {
        "id": "_OgpTeIvkDNE",
        "colab": {
          "base_uri": "https://localhost:8080/"
        },
        "outputId": "3be5bbf9-d8cf-47d7-9cd6-9071f4c0e665"
      },
      "execution_count": null,
      "outputs": [
        {
          "output_type": "execute_result",
          "data": {
            "text/plain": [
              "16"
            ]
          },
          "metadata": {},
          "execution_count": 44
        }
      ]
    },
    {
      "cell_type": "code",
      "source": [
        "# minimax + alphabeta pruning - four ply - binary tree\n",
        "\n",
        "MAX, MIN = 9999, -9999\n",
        "def minimax(depth, nodeIndex, maximizingPlayer,\n",
        "\t\t\tvalues, alpha, beta):\n",
        "\tif depth == 4:\n",
        "\t\treturn values[nodeIndex]\n",
        "\tif maximizingPlayer:\t\n",
        "\t\tbest = MIN\n",
        "\t\tfor i in range(0, 2):\t\t\t\n",
        "\t\t\tval = minimax(depth + 1, nodeIndex * 2 + i,\n",
        "\t\t\t\t\t\tFalse, values, alpha, beta)\n",
        "\t\t\tbest = max(best, val)\n",
        "\t\t\talpha = max(alpha, best)\n",
        "\t\t\tif beta <= alpha:\n",
        "\t\t\t\tbreak\t\t\n",
        "\t\treturn best\n",
        "\t\n",
        "\telse:\n",
        "\t\tbest = MAX\n",
        "\t\tfor i in range(0, 2):\t\t\n",
        "\t\t\tval = minimax(depth + 1, nodeIndex * 2 + i,\n",
        "\t\t\t\t\t\t\tTrue, values, alpha, beta)\n",
        "\t\t\tbest = min(best, val)\n",
        "\t\t\tbeta = min(beta, best)\n",
        "\t\t\tif beta <= alpha:\n",
        "\t\t\t\tbreak\n",
        "\t\treturn best\n",
        "if __name__ == \"__main__\":\n",
        " print(\"The optimal value is :\", minimax(0, 0, True, test_7, MIN, MAX))\n",
        "\t"
      ],
      "metadata": {
        "colab": {
          "base_uri": "https://localhost:8080/"
        },
        "id": "6HHI7DqN32Qb",
        "outputId": "77462656-7997-441f-fd6c-105fb870e227"
      },
      "execution_count": null,
      "outputs": [
        {
          "output_type": "stream",
          "name": "stdout",
          "text": [
            "The optimal value is : -16\n"
          ]
        }
      ]
    },
    {
      "cell_type": "code",
      "source": [],
      "metadata": {
        "id": "3InlQHykEDfC"
      },
      "execution_count": null,
      "outputs": []
    }
  ]
}